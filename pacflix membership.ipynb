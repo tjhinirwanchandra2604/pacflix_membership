{
 "cells": [
  {
   "cell_type": "code",
   "execution_count": 299,
   "id": "59b77a62-c872-4e42-b3b1-14651b361070",
   "metadata": {},
   "outputs": [],
   "source": [
    "from tabulate import tabulate"
   ]
  },
  {
   "cell_type": "code",
   "execution_count": 301,
   "id": "90478cdc-ffdc-4ea2-8e22-2bbfd16973a1",
   "metadata": {},
   "outputs": [],
   "source": [
    "class User:\n",
    "\n",
    "    data_user = {\n",
    "        1: ['Rossy', 'Basic Plan', 12, 'rosy-123'],\n",
    "        2: ['Anton', 'Standrad Plan', 9, 'anton-123'],\n",
    "        3: ['Agus', 'Basic Plan', 1, 'agus-123'],\n",
    "        4: ['Budi', 'Premium Plan', 5, 'budi-123'],\n",
    "        5: ['Shania', 'Basic Plan', 6, 'shania-123']\n",
    "    }\n",
    "\n",
    "    # Data List Plan\n",
    "    list_plan = ['Basic Plan', 'Standard Plan', 'Premium Plan']\n",
    "    list_benefit = [[True, True, True, 'Bisa Stream'],\n",
    "                    [True, True, True, 'Bisa Download'],\n",
    "                    [True, True, True, 'Kualitas SD'],\n",
    "                    [False, True, True, 'Kualitas HD'],\n",
    "                    [False, False, True, 'Kualitas UHD'],\n",
    "                    [1, 2, 4, 'Number of Device'],\n",
    "                    ['3rd party Movie Only', 'Basic Plan Content + Sport', 'Basic Plan + Standrad Plan + pacflix Original Series', 'Services'],\n",
    "                    [120_000, 160_000, 200_000, 'Harga']]\n",
    "    headers = ['Basic Plan', 'Standrad Plan', 'Premium Plan', 'Services']\n",
    "\n",
    "\n",
    "    def __init__(self, username):\n",
    "        '''\n",
    "        Fungsi ini digunakan untuk menginisiasi objek user\n",
    "        input : username (str)\n",
    "        '''\n",
    "        self.username = username\n",
    "        self.current_plan = None\n",
    "        self.duration_plprian = None\n",
    "        self.code_referal = None\n",
    "\n",
    "        for key, value in self.data_user.items():\n",
    "            if value[0] == self.username :\n",
    "                self.current_plan = value[1]\n",
    "                self.duration_plan = value[2]\n",
    "                self.code_referal = value[3]\n",
    "                break\n",
    "\n",
    "\n",
    "    def check_all_plan(self):\n",
    "        '''\n",
    "        Fungsi ini digunakan untuk mencetak plan dan benefit\n",
    "        input = None\n",
    "        '''\n",
    "        print(f'Benefit and Plan from Pacflix')\n",
    "        print('')\n",
    "        print(tabulate(self.list_benefit, self.headers))\n",
    "\n",
    "\n",
    "    def check_user_plan(self):\n",
    "        '''\n",
    "        Fungsi untuk menampilkan current plan user\n",
    "        '''\n",
    "        if(self.current_plan):\n",
    "            print(f'{self.username} sedang berlangganan {self.current_plan}')\n",
    "            print('Benefit')\n",
    "            \n",
    "            idx_current_plan = self.list_plan.index(self.current_plan)\n",
    "            headers_user = [self.headers[idx_current_plan],self.headers[-1]] \n",
    "            benefit_user = [[row[idx_current_plan], row[-1]] for row in self.list_benefit]\n",
    "            print(tabulate(benefit_user, headers_user))\n",
    "        else:\n",
    "            print(f'Anda belum berlangganan')\n",
    "\n",
    "\n",
    "    def upgrade_plan(self,new_plan):\n",
    "        '''\n",
    "        Fungsi untuk melakukan upgarde new plan\n",
    "        input: new plan\n",
    "        '''\n",
    "        if (self.current_plan is not None and new_plan in self.list_plan):\n",
    "            idx_new_plan = self.list_plan.index(new_plan)\n",
    "            idx_current_plan = self.list_plan.index(self.current_plan)\n",
    "            \n",
    "            if idx_new_plan > idx_current_plan:\n",
    "                # Do upgrade\n",
    "                if (self.duration_plan > 12) :\n",
    "                    # mendapatkan diskon 5%\n",
    "                    total = self.list_benefit[-1][idx_new_plan] - ((self.list_benefit[-1][idx_new_plan]) * 0.05)\n",
    "                else:\n",
    "                    total = self.list_benefit[-1][idx_new_plan]\n",
    "                print(f'Harga upgarde ke {new_plan} adalah Rp.{total}')\n",
    "\n",
    "                # upgarde data user\n",
    "                self.current_plan = new_plan\n",
    "                for key, value in self.data_user.items():\n",
    "                    if(self.username == value[0]):\n",
    "                        self.data_user[key][1] = new_plan\n",
    "                        break\n",
    "            \n",
    "            elif idx_current_plan == idx_new_plan:\n",
    "                print(f'{self.username} sudah berlangganan {new_plan}')\n",
    "            else:\n",
    "                print(f'Tidak bisa downgrade, silahkan pilih plan lain')\n",
    "            \n",
    "        elif (new_plan not in self.list_plan):\n",
    "            print(f'New plan tidak tersedia')\n",
    "            \n",
    "        elif (self.current_plan is None):\n",
    "            print(f'Silahkan anda berlangganan')\n",
    "\n",
    "\n",
    "    def subs_plan(self, new_plan, code_referal):\n",
    "        '''\n",
    "        Fungsi ini untuk menambah user baru\n",
    "        input: new plan (str)\n",
    "               code referal (str)\n",
    "        '''\n",
    "        list_code_referal = [row[-1] for row in self.data_user.values()]\n",
    "        if (self.current_plan is None):\n",
    "            \n",
    "            if (new_plan in self.list_plan):\n",
    "                # do subs\n",
    "                self.current_plan = new_plan\n",
    "                self.duration_plan = 1\n",
    "                self.code_referal = f'{self.username}-123'\n",
    "    \n",
    "                # menampilkan harga\n",
    "                idx_new_plan = self.list_plan.index(new_plan)\n",
    "                if code_referal in list_code_referal:\n",
    "                    # mendapatkan diskon 4%\n",
    "                    total = self.list_benefit[-1][idx_new_plan] - (self.list_benefit[-1][idx_new_plan] * 0.04)\n",
    "                else:\n",
    "                    # harga normal\n",
    "                    total = self.list_benefit[-1][idx_new_plan]\n",
    "                print(f'Total harga yang harus dibayar Rp.{total}')\n",
    "    \n",
    "                # mengupdate data_user\n",
    "                last_key = max(self.data_user.keys())\n",
    "                self.data_user[last_key+1] = [self.username, self.current_plan, self.duration_plan, self.code_referal]\n",
    "                \n",
    "            else:\n",
    "                print(f'New plan tidak tersedia')\n",
    "        \n",
    "        else:\n",
    "            print(f'Anda sudah berlangganan')\n",
    "                          \n",
    "                    \n",
    "            "
   ]
  },
  {
   "cell_type": "code",
   "execution_count": 303,
   "id": "d7002c8d-0f93-4ecb-bee8-aafee6504a7b",
   "metadata": {},
   "outputs": [],
   "source": [
    "user1 = User('Rossy')"
   ]
  },
  {
   "cell_type": "code",
   "execution_count": 305,
   "id": "e8adb790-6f7c-4556-8407-ae8af6e12eed",
   "metadata": {},
   "outputs": [],
   "source": [
    "user2 = User('Bambang')"
   ]
  },
  {
   "cell_type": "code",
   "execution_count": 307,
   "id": "90309ca1-c91f-4755-a6b2-5d9a8098943a",
   "metadata": {},
   "outputs": [
    {
     "data": {
      "text/plain": [
       "'Basic Plan'"
      ]
     },
     "execution_count": 307,
     "metadata": {},
     "output_type": "execute_result"
    }
   ],
   "source": [
    "user1.current_plan"
   ]
  },
  {
   "cell_type": "code",
   "execution_count": 309,
   "id": "934f635b-b82e-4af0-907a-745e38f6ae35",
   "metadata": {},
   "outputs": [
    {
     "name": "stdout",
     "output_type": "stream",
     "text": [
      "Benefit and Plan from Pacflix\n",
      "\n",
      "Basic Plan            Standrad Plan               Premium Plan                                          Services\n",
      "--------------------  --------------------------  ----------------------------------------------------  ----------------\n",
      "True                  True                        True                                                  Bisa Stream\n",
      "True                  True                        True                                                  Bisa Download\n",
      "True                  True                        True                                                  Kualitas SD\n",
      "False                 True                        True                                                  Kualitas HD\n",
      "False                 False                       True                                                  Kualitas UHD\n",
      "1                     2                           4                                                     Number of Device\n",
      "3rd party Movie Only  Basic Plan Content + Sport  Basic Plan + Standrad Plan + pacflix Original Series  Services\n",
      "120000                160000                      200000                                                Harga\n"
     ]
    }
   ],
   "source": [
    "user1.check_all_plan()"
   ]
  },
  {
   "cell_type": "code",
   "execution_count": 311,
   "id": "7253f5a2-fa3d-4f38-bafb-ecd74a53ab09",
   "metadata": {},
   "outputs": [
    {
     "name": "stdout",
     "output_type": "stream",
     "text": [
      "Rossy sedang berlangganan Basic Plan\n",
      "Benefit\n",
      "Basic Plan            Services\n",
      "--------------------  ----------------\n",
      "True                  Bisa Stream\n",
      "True                  Bisa Download\n",
      "True                  Kualitas SD\n",
      "False                 Kualitas HD\n",
      "False                 Kualitas UHD\n",
      "1                     Number of Device\n",
      "3rd party Movie Only  Services\n",
      "120000                Harga\n"
     ]
    }
   ],
   "source": [
    "user1.check_user_plan()"
   ]
  },
  {
   "cell_type": "code",
   "execution_count": 313,
   "id": "bb7997f6-79e6-42ac-a2bc-2d9ad9156a9e",
   "metadata": {},
   "outputs": [
    {
     "name": "stdout",
     "output_type": "stream",
     "text": [
      "Harga upgarde ke Standard Plan adalah Rp.160000\n"
     ]
    }
   ],
   "source": [
    "user1.upgrade_plan('Standard Plan')\n"
   ]
  },
  {
   "cell_type": "code",
   "execution_count": 315,
   "id": "e1935565-7c47-46dc-9e4e-7396ffc00c87",
   "metadata": {},
   "outputs": [
    {
     "name": "stdout",
     "output_type": "stream",
     "text": [
      "Silahkan anda berlangganan\n"
     ]
    }
   ],
   "source": [
    "user2.upgrade_plan('Basic Plan')"
   ]
  },
  {
   "cell_type": "code",
   "execution_count": 317,
   "id": "613aa620-1b6f-4604-a8c1-60e11e87e97e",
   "metadata": {},
   "outputs": [
    {
     "data": {
      "text/plain": [
       "{1: ['Rossy', 'Standard Plan', 12, 'rosy-123'],\n",
       " 2: ['Anton', 'Standrad Plan', 9, 'anton-123'],\n",
       " 3: ['Agus', 'Basic Plan', 1, 'agus-123'],\n",
       " 4: ['Budi', 'Premium Plan', 5, 'budi-123'],\n",
       " 5: ['Shania', 'Basic Plan', 6, 'shania-123']}"
      ]
     },
     "execution_count": 317,
     "metadata": {},
     "output_type": "execute_result"
    }
   ],
   "source": [
    "user1.data_user"
   ]
  },
  {
   "cell_type": "code",
   "execution_count": 319,
   "id": "124a7461-00e3-4225-9314-697e71fd7ee1",
   "metadata": {},
   "outputs": [
    {
     "name": "stdout",
     "output_type": "stream",
     "text": [
      "Tidak bisa downgrade, silahkan pilih plan lain\n"
     ]
    }
   ],
   "source": [
    "user1.upgrade_plan('Basic Plan')"
   ]
  },
  {
   "cell_type": "code",
   "execution_count": 321,
   "id": "dbcf1cf8-d173-4436-accc-74dc5a489618",
   "metadata": {},
   "outputs": [
    {
     "name": "stdout",
     "output_type": "stream",
     "text": [
      "Anda sudah berlangganan\n"
     ]
    }
   ],
   "source": [
    "user1.subs_plan('Basic Plan', None)\n"
   ]
  },
  {
   "cell_type": "code",
   "execution_count": 323,
   "id": "5e4fd9e9-fd8f-4025-ad92-2d2ec5783a7b",
   "metadata": {},
   "outputs": [],
   "source": [
    "user3 = User('Bambang')"
   ]
  },
  {
   "cell_type": "code",
   "execution_count": 327,
   "id": "6ec16c9c-5dd1-4f3a-873f-19c325247544",
   "metadata": {},
   "outputs": [
    {
     "name": "stdout",
     "output_type": "stream",
     "text": [
      "Anda sudah berlangganan\n"
     ]
    }
   ],
   "source": [
    "user3.subs_plan('Basic Plan', None)"
   ]
  },
  {
   "cell_type": "code",
   "execution_count": 329,
   "id": "a9fe9ea2-7539-4332-bc13-233c8f904bc5",
   "metadata": {},
   "outputs": [
    {
     "data": {
      "text/plain": [
       "{1: ['Rossy', 'Standard Plan', 12, 'rosy-123'],\n",
       " 2: ['Anton', 'Standrad Plan', 9, 'anton-123'],\n",
       " 3: ['Agus', 'Basic Plan', 1, 'agus-123'],\n",
       " 4: ['Budi', 'Premium Plan', 5, 'budi-123'],\n",
       " 5: ['Shania', 'Basic Plan', 6, 'shania-123'],\n",
       " 6: ['Bambang', 'Basic Plan', 1, 'Bambang-123']}"
      ]
     },
     "execution_count": 329,
     "metadata": {},
     "output_type": "execute_result"
    }
   ],
   "source": [
    "user3.data_user"
   ]
  },
  {
   "cell_type": "code",
   "execution_count": null,
   "id": "883b3677-c821-41a7-8423-3460869b2d7b",
   "metadata": {},
   "outputs": [],
   "source": []
  }
 ],
 "metadata": {
  "kernelspec": {
   "display_name": "Python 3 (ipykernel)",
   "language": "python",
   "name": "python3"
  },
  "language_info": {
   "codemirror_mode": {
    "name": "ipython",
    "version": 3
   },
   "file_extension": ".py",
   "mimetype": "text/x-python",
   "name": "python",
   "nbconvert_exporter": "python",
   "pygments_lexer": "ipython3",
   "version": "3.12.4"
  }
 },
 "nbformat": 4,
 "nbformat_minor": 5
}
